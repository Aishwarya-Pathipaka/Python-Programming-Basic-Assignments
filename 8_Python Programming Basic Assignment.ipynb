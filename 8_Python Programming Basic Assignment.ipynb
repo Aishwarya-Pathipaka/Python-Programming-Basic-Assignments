{
 "cells": [
  {
   "cell_type": "markdown",
   "id": "72bc29d3",
   "metadata": {},
   "source": [
    "## 1. Write a Python Program to Add Two Matrices?"
   ]
  },
  {
   "cell_type": "code",
   "execution_count": 1,
   "id": "c5fe6d0a",
   "metadata": {},
   "outputs": [
    {
     "ename": "SyntaxError",
     "evalue": "unexpected EOF while parsing (Temp/ipykernel_38932/616978829.py, line 15)",
     "output_type": "error",
     "traceback": [
      "\u001b[1;36m  File \u001b[1;32m\"C:\\Users\\AISHWA~1\\AppData\\Local\\Temp/ipykernel_38932/616978829.py\"\u001b[1;36m, line \u001b[1;32m15\u001b[0m\n\u001b[1;33m    print(\"The Sum of two matrix {}  and {}  is \\n{} \".format(mat1,mat2,sumMat)\u001b[0m\n\u001b[1;37m                                                                               ^\u001b[0m\n\u001b[1;31mSyntaxError\u001b[0m\u001b[1;31m:\u001b[0m unexpected EOF while parsing\n"
     ]
    }
   ],
   "source": [
    "#solution 1\n",
    "mat1 = [[1,6,4],\n",
    "        [4,5,6],\n",
    "        [7,6,9]]\n",
    "\n",
    "mat2 = [[2,5,4],\n",
    "        [5,8,7],\n",
    "        [8,3,1]]\n",
    "\n",
    "sumMat = [[0,0,0],\n",
    "          [0,0,0],\n",
    "          [0,0,0]]\n",
    "\n",
    "sumMat = [[mat1[i][j] + mat2[i][j] for j in range(len(mat1[0]))] for i in range(len(mat1))]\n",
    "print(\"The Sum of two matrix {}  and {}  is \\n{} \".format(mat1,mat2,sumMat)"
   ]
  },
  {
   "cell_type": "markdown",
   "id": "c673750b",
   "metadata": {},
   "source": [
    "## 2. Write a Python Program to Multiply Two Matrices?"
   ]
  },
  {
   "cell_type": "code",
   "execution_count": null,
   "id": "dc098a28",
   "metadata": {},
   "outputs": [],
   "source": [
    "def initializeMatrix(n,v=0):\n",
    "    M=[]             \n",
    "    for i in range(n):\n",
    "        #stor row\n",
    "        row =[]\n",
    "        for j in range(n):\n",
    "            row.append(v)\n",
    "        M.append(row)\n",
    "    return(M)\n",
    "\n",
    "def createMatrix(n):\n",
    "    \n",
    "    M=[]             \n",
    "    print(\"Enter the element :\")\n",
    "    for i in range(n):\n",
    "        #stor row\n",
    "        row =[]\n",
    "        for j in range(n):\n",
    "            row.append(int(input()))\n",
    "        M.append(row)\n",
    "    return(M)\n",
    "\n",
    "def printMatrix(M,n):\n",
    "    for i in range(n):\n",
    "        for j in range(n):\n",
    "            print(M[i][j], end=\" \")\n",
    "        print() \n",
    "def mulMatrix(A,B,result):        \n",
    "    for i in range(len(A)):\n",
    "        for j in range(len(B[0])):\n",
    "            for k in range(len(B)):\n",
    "                result[i][j] = result[i][j] + A[i][k] * B[k][j]\n",
    "    return result\n",
    "    \n",
    "        \n",
    "n=int(input(\"Enter N for N x N matrix: \"))       \n",
    "M1 = createMatrix(n)\n",
    "\n",
    "#Display the 2D array\n",
    "print(\"Display Array M1 In Matrix Form\")\n",
    "printMatrix(M1,n)\n",
    "\n",
    "\n",
    "M2 = createMatrix(n)\n",
    "\n",
    "#Display the 2D array\n",
    "print(\"Display Array M2 In Matrix Form\")\n",
    "printMatrix(M2,n)\n",
    "\n",
    "\n",
    "sumMat = initializeMatrix(n)\n",
    "\n",
    "for i in range(len(M1)):\n",
    "    for j in range(len(M1[0])):\n",
    "        sumMat[i][j] = M1[i][j] + M2[i][j]\n",
    "        \n",
    "print(\"Result Matrix\")\n",
    "for r in sumMat:\n",
    "    print(r)\n"
   ]
  },
  {
   "cell_type": "markdown",
   "id": "ecd63494",
   "metadata": {},
   "source": [
    "## 3. Write a Python Program to Transpose a Matrix?"
   ]
  },
  {
   "cell_type": "code",
   "execution_count": null,
   "id": "92f439f6",
   "metadata": {},
   "outputs": [],
   "source": [
    "def initializeMatrix(n,v=0):\n",
    "    M=[]             \n",
    "    for i in range(n):\n",
    "        #stor row\n",
    "        row =[]\n",
    "        for j in range(n):\n",
    "            row.append(v)\n",
    "        M.append(row)\n",
    "    return(M)\n",
    "\n",
    "def createMatrix(n):\n",
    "    \n",
    "    M=[]             \n",
    "    print(\"Enter the element :\")\n",
    "    for i in range(n):\n",
    "        #stor row\n",
    "        row =[]\n",
    "        for j in range(n):\n",
    "            row.append(int(input()))\n",
    "        M.append(row)\n",
    "    return(M)\n",
    "\n",
    "def printMatrix(M,n):\n",
    "    for i in range(n):\n",
    "        for j in range(n):\n",
    "            print(M[i][j], end=\" \")\n",
    "        print() \n",
    "        \n",
    "def transposeMatrix(M,n,result):\n",
    "    for i in range(n):\n",
    "        for j in range(n):\n",
    "            result[i][j]= M[j][i]\n",
    "    return result\n",
    "\n",
    "n=int(input(\"Enter N for N x N matrix: \"))       \n",
    "M1 = createMatrix(n)\n",
    "#Display the 2D array\n",
    "print(\"Display Array M1 In Matrix Form\")\n",
    "printMatrix(M1,n)\n",
    "\n",
    "result = initializeMatrix(n)\n",
    "result = transposeMatrix(M1,n,result)\n",
    "print(\"Transposed Matrix\")\n",
    "for r in result:\n",
    "    print(r)"
   ]
  },
  {
   "cell_type": "markdown",
   "id": "cdb62353",
   "metadata": {},
   "source": [
    "## 4. Write a Python Program to Sort Words in Alphabetic Order?"
   ]
  },
  {
   "cell_type": "code",
   "execution_count": null,
   "id": "80ea6666",
   "metadata": {},
   "outputs": [],
   "source": [
    "str = input(\"Enter some string: \")\n",
    "\n",
    "words = str.split()\n",
    "words.sort()\n",
    "for word in words:\n",
    "    print(word)"
   ]
  },
  {
   "cell_type": "markdown",
   "id": "7a7cdf80",
   "metadata": {},
   "source": [
    "## 5. Write a Python Program to Remove Punctuation From a String?"
   ]
  },
  {
   "cell_type": "code",
   "execution_count": 2,
   "id": "e3441f70",
   "metadata": {},
   "outputs": [
    {
     "name": "stdout",
     "output_type": "stream",
     "text": [
      "Enter some string with panctuationsgty!\n",
      "gty\n"
     ]
    }
   ],
   "source": [
    "punctuations = '''!()-[]{};:'\"\\,<>./?@#$%^&*_~'''\n",
    "\n",
    "str = input(\"Enter some string with panctuations\")\n",
    "\n",
    "# remove punctuation from the string\n",
    "no_punct = \"\"\n",
    "for char in str:\n",
    "    if char not in punctuations:\n",
    "        no_punct = no_punct + char\n",
    "\n",
    "# display the unpunctuated string\n",
    "print(no_punct)"
   ]
  },
  {
   "cell_type": "code",
   "execution_count": null,
   "id": "0135a05c",
   "metadata": {},
   "outputs": [],
   "source": []
  },
  {
   "cell_type": "code",
   "execution_count": null,
   "id": "0c296efb",
   "metadata": {},
   "outputs": [],
   "source": []
  },
  {
   "cell_type": "code",
   "execution_count": null,
   "id": "bdf58b7d",
   "metadata": {},
   "outputs": [],
   "source": []
  }
 ],
 "metadata": {
  "kernelspec": {
   "display_name": "Python 3 (ipykernel)",
   "language": "python",
   "name": "python3"
  },
  "language_info": {
   "codemirror_mode": {
    "name": "ipython",
    "version": 3
   },
   "file_extension": ".py",
   "mimetype": "text/x-python",
   "name": "python",
   "nbconvert_exporter": "python",
   "pygments_lexer": "ipython3",
   "version": "3.9.7"
  }
 },
 "nbformat": 4,
 "nbformat_minor": 5
}
