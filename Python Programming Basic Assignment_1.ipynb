{
 "cells": [
  {
   "cell_type": "markdown",
   "id": "cdb87ee8",
   "metadata": {},
   "source": [
    "## 1. Write a Python program to print  \"Hello Python\""
   ]
  },
  {
   "cell_type": "markdown",
   "id": "72f37eab",
   "metadata": {},
   "source": [
    "## Ans:"
   ]
  },
  {
   "cell_type": "code",
   "execution_count": 1,
   "id": "94e79acc",
   "metadata": {},
   "outputs": [
    {
     "name": "stdout",
     "output_type": "stream",
     "text": [
      "Hello Python\n"
     ]
    }
   ],
   "source": [
    "print(\"Hello Python\")"
   ]
  },
  {
   "cell_type": "markdown",
   "id": "8d25e403",
   "metadata": {},
   "source": [
    "## 2. Write a Python program to do arithmetical operations addition and division.?"
   ]
  },
  {
   "cell_type": "markdown",
   "id": "bcacc0c4",
   "metadata": {},
   "source": [
    "## Ans:"
   ]
  },
  {
   "cell_type": "code",
   "execution_count": 2,
   "id": "909e9f07",
   "metadata": {},
   "outputs": [
    {
     "name": "stdout",
     "output_type": "stream",
     "text": [
      "a=40\n",
      "b=4\n",
      "addition 44\n",
      "division 10\n"
     ]
    }
   ],
   "source": [
    "a=int(input(\"a=\"))\n",
    "b=int(input(\"b=\"))\n",
    "print(\"addition\",a+b)\n",
    "print(\"division\",a//b)"
   ]
  },
  {
   "cell_type": "markdown",
   "id": "9dbc4017",
   "metadata": {},
   "source": [
    "## 3. Write a Python program to find the area of a triangle?"
   ]
  },
  {
   "cell_type": "markdown",
   "id": "0718a7ef",
   "metadata": {},
   "source": [
    "## Ans:"
   ]
  },
  {
   "cell_type": "code",
   "execution_count": 3,
   "id": "120230e8",
   "metadata": {},
   "outputs": [
    {
     "name": "stdout",
     "output_type": "stream",
     "text": [
      "Enter base: 30\n",
      "Enter height: 3\n",
      "Area of a triangle is : 45.0\n"
     ]
    }
   ],
   "source": [
    "b=int(input(\"Enter base: \"))\n",
    "h=int(input(\"Enter height: \"))\n",
    "area=((1/2)*b*h)\n",
    "print(\"Area of a triangle is :\",area)"
   ]
  },
  {
   "cell_type": "markdown",
   "id": "e4e351fe",
   "metadata": {},
   "source": [
    "## 4. Write a Python program to swap two variables?"
   ]
  },
  {
   "cell_type": "markdown",
   "id": "c34ada76",
   "metadata": {},
   "source": [
    "## Ans:"
   ]
  },
  {
   "cell_type": "code",
   "execution_count": 4,
   "id": "9bff8a65",
   "metadata": {},
   "outputs": [
    {
     "name": "stdout",
     "output_type": "stream",
     "text": [
      "x = 10\n",
      "y = 5\n"
     ]
    }
   ],
   "source": [
    "x = 5\n",
    "y = 10\n",
    "\n",
    "x, y = y, x\n",
    "print(\"x =\", x)\n",
    "print(\"y =\", y)"
   ]
  },
  {
   "cell_type": "markdown",
   "id": "3d73f47c",
   "metadata": {},
   "source": [
    "## 5. Write a Python program to generate a random number?"
   ]
  },
  {
   "cell_type": "markdown",
   "id": "efd6a7e5",
   "metadata": {},
   "source": [
    "## Ans:"
   ]
  },
  {
   "cell_type": "code",
   "execution_count": 5,
   "id": "4589be8f",
   "metadata": {},
   "outputs": [
    {
     "name": "stdout",
     "output_type": "stream",
     "text": [
      "19\n"
     ]
    }
   ],
   "source": [
    "import random\n",
    "n = random.randint(0,77)\n",
    "print(n)"
   ]
  },
  {
   "cell_type": "code",
   "execution_count": null,
   "id": "d246a0c6",
   "metadata": {},
   "outputs": [],
   "source": []
  }
 ],
 "metadata": {
  "kernelspec": {
   "display_name": "Python 3 (ipykernel)",
   "language": "python",
   "name": "python3"
  },
  "language_info": {
   "codemirror_mode": {
    "name": "ipython",
    "version": 3
   },
   "file_extension": ".py",
   "mimetype": "text/x-python",
   "name": "python",
   "nbconvert_exporter": "python",
   "pygments_lexer": "ipython3",
   "version": "3.9.7"
  }
 },
 "nbformat": 4,
 "nbformat_minor": 5
}
